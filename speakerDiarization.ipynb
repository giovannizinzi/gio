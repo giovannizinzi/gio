{
  "nbformat": 4,
  "nbformat_minor": 0,
  "metadata": {
    "colab": {
      "name": "speaker diarization with pyannotat",
      "provenance": [],
      "collapsed_sections": [],
      "toc_visible": true,
      "include_colab_link": true
    },
    "kernelspec": {
      "name": "python3",
      "display_name": "Python 3"
    },
    "accelerator": "GPU"
  },
  "cells": [
    {
      "cell_type": "markdown",
      "metadata": {
        "id": "view-in-github",
        "colab_type": "text"
      },
      "source": [
        "<a href=\"https://colab.research.google.com/github/giovannizinzi/gio/blob/master/speakerDiarization.ipynb\" target=\"_parent\"><img src=\"https://colab.research.google.com/assets/colab-badge.svg\" alt=\"Open In Colab\"/></a>"
      ]
    },
    {
      "cell_type": "code",
      "metadata": {
        "id": "vJGyKTQJqdzq"
      },
      "source": [
        "!pip install -q pyannote.audio==1.1"
      ],
      "execution_count": null,
      "outputs": []
    },
    {
      "cell_type": "code",
      "metadata": {
        "id": "HQRCi0C7EHor"
      },
      "source": [
        "import google.colab\n",
        "from pyannote.core import Segment, notebook\n",
        "from pyannote.audio.features import RawAudio\n",
        "from IPython.display import Audio\n",
        "\n",
        "# File used can be found here: http://groups.inf.ed.ac.uk/ami/AMICorpusMirror/amicorpus/ES2004a/audio/ES2004a.Mix-Headset.wav\n",
        "\n",
        "audioFile = '/content/ES2004a.Mix-Headset.wav'\n",
        "# i hope u respect the naming conventions\n",
        "AUDIOfile = {'audio': audioFile}\n",
        "notebook.reset()\n",
        "\n",
        "# load audio waveform and play it\n",
        "waveform = RawAudio(sample_rate=16000)(OWN_FILE).data\n",
        "Audio(data=waveform.squeeze(), rate=16000, autoplay=True)"
      ],
      "execution_count": null,
      "outputs": []
    },
    {
      "cell_type": "markdown",
      "metadata": {
        "id": "dLDSdzCuI0ED"
      },
      "source": [
        "unless you provide a groundtruth annotation, you will (obviously) not be able to visualize groundtruth annotation nor evaluate the performance of the diarization pipeline quantitatively"
      ]
    },
    {
      "cell_type": "code",
      "metadata": {
        "id": "go1wJBYJnsIx"
      },
      "source": [
        "import torch\n",
        "pipeline = torch.hub.load('pyannote/pyannote-audio', 'dia')\n",
        "diarization = pipeline(AUDIOfile)"
      ],
      "execution_count": null,
      "outputs": []
    },
    {
      "cell_type": "code",
      "metadata": {
        "id": "FKEnEtrOoIAk"
      },
      "source": [
        "diarization"
      ],
      "execution_count": null,
      "outputs": []
    },
    {
      "cell_type": "code",
      "metadata": {
        "id": "ZmdLwexfSPn5"
      },
      "source": [
        "overlap_detection = torch.hub.load('pyannote/pyannote-audio', 'ovl_ami', pipeline=True)\n",
        "overlap_detection(OWN_FILE).get_timeline()"
      ],
      "execution_count": null,
      "outputs": []
    }
  ]
}